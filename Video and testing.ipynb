{
 "cells": [
  {
   "cell_type": "code",
   "execution_count": 1,
   "id": "5033e040",
   "metadata": {},
   "outputs": [
    {
     "data": {
      "application/javascript": "\ntry {\nrequire(['notebook/js/codecell'], function(codecell) {\n  codecell.CodeCell.options_default.highlight_modes[\n      'magic_text/x-csrc'] = {'reg':[/^%%microblaze/]};\n  Jupyter.notebook.events.one('kernel_ready.Kernel', function(){\n      Jupyter.notebook.get_cells().map(function(cell){\n          if (cell.cell_type == 'code'){ cell.auto_highlight(); } }) ;\n  });\n});\n} catch (e) {};\n"
     },
     "metadata": {},
     "output_type": "display_data"
    },
    {
     "data": {
      "application/javascript": "\ntry {\nrequire(['notebook/js/codecell'], function(codecell) {\n  codecell.CodeCell.options_default.highlight_modes[\n      'magic_text/x-csrc'] = {'reg':[/^%%pybind11/]};\n  Jupyter.notebook.events.one('kernel_ready.Kernel', function(){\n      Jupyter.notebook.get_cells().map(function(cell){\n          if (cell.cell_type == 'code'){ cell.auto_highlight(); } }) ;\n  });\n});\n} catch (e) {};\n"
     },
     "metadata": {},
     "output_type": "display_data"
    }
   ],
   "source": [
    "from pynq import Overlay\n",
    "from pynq.lib.video import *\n",
    "import time\n",
    "\n",
    "overlay = Overlay(\"/home/xilinx/base2.bit\")"
   ]
  },
  {
   "cell_type": "code",
   "execution_count": 2,
   "id": "a71fbab2",
   "metadata": {},
   "outputs": [],
   "source": [
    "imgen_vdma = overlay.video.axi_vdma_0.readchannel\n",
    "videoMode = common.VideoMode(640, 480, 24)\n",
    "imgen_vdma.mode = videoMode\n",
    "imgen_vdma.start()\n",
    "\n",
    "hdmi_out = overlay.video.hdmi_out\n",
    "hdmi_out._vdma = overlay.video.axi_vdma #Use the correct VDMA!\n",
    "hdmi_out.configure(videoMode)\n",
    "hdmi_out.start()\n",
    "\n",
    "pixgen = overlay.pixel_generator_0"
   ]
  },
  {
   "cell_type": "code",
   "execution_count": 10,
   "id": "30b62d3c",
   "metadata": {},
   "outputs": [
    {
     "name": "stdout",
     "output_type": "stream",
     "text": [
      "59.606307133226146\n"
     ]
    }
   ],
   "source": [
    "import socket\n",
    "import pickle\n",
    "import numpy as np\n",
    "\n",
    "# Initialize TCP client\n",
    "client_socket = socket.socket(socket.AF_INET, socket.SOCK_STREAM)\n",
    "client_socket.connect(('localhost', 9999))\n",
    "print(\"Connected to server.\")\n",
    "\n",
    "done = False\n",
    "pause = 0\n",
    "\n",
    "try:\n",
    "    while True:\n",
    "        # Receive data from server\n",
    "        data = b\"\"\n",
    "        packet = client_socket.recv(99999999)\n",
    "\n",
    "        # Deserialize received data\n",
    "        message = pickle.loads(packet)\n",
    "        if not done and isinstance(message, np.array):\n",
    "            done=True\n",
    "            flag=False\n",
    "            for i in range(1080):\n",
    "                pixgen.register_map.gp1 = flag\n",
    "                pixgen.register_map.gp0 = message[i]\n",
    "                flag=not flag\n",
    "            pixgen.register_map.gp2 = done\n",
    "        elif isinstance(message, str):\n",
    "            pixgen.register_map.gp2 = 1\n",
    "            print(\"paused\")\n",
    "            message=\"\"\n",
    "        else:\n",
    "            pixgen.register_map.gp2 = 0\n",
    "        frame = imgen_vdma.readframe()\n",
    "        hdmi_out.writeframe(frame)\n",
    "            \n",
    "except Exception as e:\n",
    "    print(f\"Error: {e}\")\n",
    "\n",
    "finally:\n",
    "    client_socket.close()\n",
    "    print(\"Connection closed.\")"
   ]
  },
  {
   "cell_type": "code",
   "execution_count": null,
   "id": "fa6f3a2c",
   "metadata": {},
   "outputs": [],
   "source": []
  }
 ],
 "metadata": {
  "kernelspec": {
   "display_name": "Python 3 (ipykernel)",
   "language": "python",
   "name": "python3"
  },
  "language_info": {
   "codemirror_mode": {
    "name": "ipython",
    "version": 3
   },
   "file_extension": ".py",
   "mimetype": "text/x-python",
   "name": "python",
   "nbconvert_exporter": "python",
   "pygments_lexer": "ipython3",
   "version": "3.10.4"
  }
 },
 "nbformat": 4,
 "nbformat_minor": 5
}
