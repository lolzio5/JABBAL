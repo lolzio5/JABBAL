{
 "cells": [
  {
   "cell_type": "code",
   "execution_count": 1,
   "id": "5033e040",
   "metadata": {},
   "outputs": [
    {
     "data": {
      "application/javascript": "\ntry {\nrequire(['notebook/js/codecell'], function(codecell) {\n  codecell.CodeCell.options_default.highlight_modes[\n      'magic_text/x-csrc'] = {'reg':[/^%%microblaze/]};\n  Jupyter.notebook.events.one('kernel_ready.Kernel', function(){\n      Jupyter.notebook.get_cells().map(function(cell){\n          if (cell.cell_type == 'code'){ cell.auto_highlight(); } }) ;\n  });\n});\n} catch (e) {};\n"
     },
     "metadata": {},
     "output_type": "display_data"
    },
    {
     "data": {
      "application/javascript": "\ntry {\nrequire(['notebook/js/codecell'], function(codecell) {\n  codecell.CodeCell.options_default.highlight_modes[\n      'magic_text/x-csrc'] = {'reg':[/^%%pybind11/]};\n  Jupyter.notebook.events.one('kernel_ready.Kernel', function(){\n      Jupyter.notebook.get_cells().map(function(cell){\n          if (cell.cell_type == 'code'){ cell.auto_highlight(); } }) ;\n  });\n});\n} catch (e) {};\n"
     },
     "metadata": {},
     "output_type": "display_data"
    }
   ],
   "source": [
    "from pynq import Overlay\n",
    "from pynq.lib.video import *\n",
    "import time\n",
    "import PIL.Image\n",
    "\n",
    "overlay = Overlay(\"/home/xilinx/base14A.bit\")"
   ]
  },
  {
   "cell_type": "code",
   "execution_count": 2,
   "id": "aea99ec0",
   "metadata": {},
   "outputs": [],
   "source": [
    "imgen_vdma = overlay.video.axi_vdma_0.readchannel"
   ]
  },
  {
   "cell_type": "code",
   "execution_count": 3,
   "id": "a71fbab2",
   "metadata": {},
   "outputs": [],
   "source": [
    "videoMode = common.VideoMode(1280, 720, 24) # (640, 480, 24) (1280, 720, 24)\n",
    "imgen_vdma.mode = videoMode\n",
    "imgen_vdma.start()"
   ]
  },
  {
   "cell_type": "code",
   "execution_count": 4,
   "id": "e4b73c21",
   "metadata": {},
   "outputs": [
    {
     "data": {
      "text/plain": [
       "<contextlib._GeneratorContextManager at 0xb2edc9b8>"
      ]
     },
     "execution_count": 4,
     "metadata": {},
     "output_type": "execute_result"
    }
   ],
   "source": [
    "#NEW CELL I (AJAY) ADDED NOT ORGINAL COPY PASTEOF COMMENTED OUT CODE!\n",
    "hdmi_out = overlay.video.hdmi_out\n",
    "hdmi_out._vdma = overlay.video.axi_vdma #Use the correct VDMA!\n",
    "hdmi_out.configure(videoMode)\n",
    "hdmi_out.start()"
   ]
  },
  {
   "cell_type": "code",
   "execution_count": 5,
   "id": "ca498ff9",
   "metadata": {},
   "outputs": [],
   "source": [
    "pixgen = overlay.pixel_generator_0"
   ]
  },
  {
   "cell_type": "code",
   "execution_count": null,
   "id": "30b62d3c",
   "metadata": {},
   "outputs": [],
   "source": [
    "import socket\n",
    "import pickle\n",
    "\n",
    "# Initialize TCP client\n",
    "client_socket = socket.socket(socket.AF_INET, socket.SOCK_STREAM)\n",
    "client_socket.connect(('127.0.0.1', 9999))\n",
    "print(\"Connected to server.\")\n",
    "\n",
    "pixgen.register_map.PAUSE = 0x0000 # PAUSE FLAG\n",
    "counter=0\n",
    "while True:\n",
    "     if (counter<720):\n",
    "          pixgen.register_map.PAUSE = 0x0001\n",
    "          serial_row = client_socket.recv(1431)\n",
    "          row=pickle.loads(serial_row)\n",
    "          counterd = 0\n",
    "          for data in row:\n",
    "               if data:\n",
    "                    row[counterd] = 1\n",
    "               else:\n",
    "                    row[counterd] = 0\n",
    "               counterd = counterd + 1\n",
    "          binary_str = ''.join(map(str, row))\n",
    "          while len(binary_str) % 8 != 0:\n",
    "               binary_str = '0' + binary_str\n",
    "          pixgen.register_map.ADDR=hex(counter)\n",
    "          for i in range(40):\n",
    "               hex_int = int(binary_str[32*i:((i+1)*32)-1], 2)\n",
    "               register_name = f\"gp{i}\"\n",
    "               setattr(pixgen.register_map, register_name, hex_int)\n",
    "          counter=counter+1\n",
    "     string=client_socket.recv(256)\n",
    "     message = pickle.loads(string)\n",
    "     if message==\"P\":\n",
    "          pass\n",
    "     else:\n",
    "          hex_str = str(pixgen.register_map.PAUSE)\n",
    "          if(int(hex_str, 16) == 0):\n",
    "               pixgen.register_map.PAUSE = 0x0000\n",
    "          if(int(hex_str, 16) == 1):\n",
    "               pixgen.register_map.PAUSE = 0x0000\n",
    "     frame = imgen_vdma.readframe() # Output next frame\n",
    "     hdmi_out.writeframe(frame)"
   ]
  }
 ],
 "metadata": {
  "kernelspec": {
   "display_name": "Python 3 (ipykernel)",
   "language": "python",
   "name": "python3"
  },
  "language_info": {
   "codemirror_mode": {
    "name": "ipython",
    "version": 3
   },
   "file_extension": ".py",
   "mimetype": "text/x-python",
   "name": "python",
   "nbconvert_exporter": "python",
   "pygments_lexer": "ipython3",
   "version": "3.10.4"
  }
 },
 "nbformat": 4,
 "nbformat_minor": 5
}
