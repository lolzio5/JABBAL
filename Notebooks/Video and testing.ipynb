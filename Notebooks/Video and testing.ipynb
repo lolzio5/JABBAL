{
 "cells": [
  {
   "cell_type": "code",
   "execution_count": 1,
   "id": "5033e040",
   "metadata": {},
   "outputs": [
    {
     "data": {
      "application/javascript": "\ntry {\nrequire(['notebook/js/codecell'], function(codecell) {\n  codecell.CodeCell.options_default.highlight_modes[\n      'magic_text/x-csrc'] = {'reg':[/^%%microblaze/]};\n  Jupyter.notebook.events.one('kernel_ready.Kernel', function(){\n      Jupyter.notebook.get_cells().map(function(cell){\n          if (cell.cell_type == 'code'){ cell.auto_highlight(); } }) ;\n  });\n});\n} catch (e) {};\n"
     },
     "metadata": {},
     "output_type": "display_data"
    },
    {
     "data": {
      "application/javascript": "\ntry {\nrequire(['notebook/js/codecell'], function(codecell) {\n  codecell.CodeCell.options_default.highlight_modes[\n      'magic_text/x-csrc'] = {'reg':[/^%%pybind11/]};\n  Jupyter.notebook.events.one('kernel_ready.Kernel', function(){\n      Jupyter.notebook.get_cells().map(function(cell){\n          if (cell.cell_type == 'code'){ cell.auto_highlight(); } }) ;\n  });\n});\n} catch (e) {};\n"
     },
     "metadata": {},
     "output_type": "display_data"
    }
   ],
   "source": [
    "from pynq import Overlay\n",
    "from pynq.lib.video import *\n",
    "import time\n",
    "\n",
    "overlay = Overlay(\"/home/xilinx/base2.bit\")"
   ]
  },
  {
   "cell_type": "code",
   "execution_count": 2,
   "id": "a71fbab2",
   "metadata": {},
   "outputs": [],
   "source": [
    "imgen_vdma = overlay.video.axi_vdma_0.readchannel\n",
    "videoMode = common.VideoMode(640, 480, 24)\n",
    "imgen_vdma.mode = videoMode\n",
    "imgen_vdma.start()\n",
    "\n",
    "hdmi_out = overlay.video.hdmi_out\n",
    "hdmi_out._vdma = overlay.video.axi_vdma #Use the correct VDMA!\n",
    "hdmi_out.configure(videoMode)\n",
    "hdmi_out.start()\n",
    "\n",
    "pixgen = overlay.pixel_generator_0"
   ]
  },
  {
   "cell_type": "code",
   "execution_count": 1,
   "id": "30b62d3c",
   "metadata": {},
   "outputs": [
    {
     "ename": "ConnectionRefusedError",
     "evalue": "[WinError 10061] No connection could be made because the target machine actively refused it",
     "output_type": "error",
     "traceback": [
      "\u001b[1;31m---------------------------------------------------------------------------\u001b[0m",
      "\u001b[1;31mConnectionRefusedError\u001b[0m                    Traceback (most recent call last)",
      "Cell \u001b[1;32mIn[1], line 7\u001b[0m\n\u001b[0;32m      5\u001b[0m \u001b[38;5;66;03m# Initialize TCP client\u001b[39;00m\n\u001b[0;32m      6\u001b[0m client_socket \u001b[38;5;241m=\u001b[39m socket\u001b[38;5;241m.\u001b[39msocket(socket\u001b[38;5;241m.\u001b[39mAF_INET, socket\u001b[38;5;241m.\u001b[39mSOCK_STREAM)\n\u001b[1;32m----> 7\u001b[0m \u001b[43mclient_socket\u001b[49m\u001b[38;5;241;43m.\u001b[39;49m\u001b[43mconnect\u001b[49m\u001b[43m(\u001b[49m\u001b[43m(\u001b[49m\u001b[38;5;124;43m'\u001b[39;49m\u001b[38;5;124;43mlocalhost\u001b[39;49m\u001b[38;5;124;43m'\u001b[39;49m\u001b[43m,\u001b[49m\u001b[43m \u001b[49m\u001b[38;5;241;43m9999\u001b[39;49m\u001b[43m)\u001b[49m\u001b[43m)\u001b[49m\n\u001b[0;32m      8\u001b[0m \u001b[38;5;28mprint\u001b[39m(\u001b[38;5;124m\"\u001b[39m\u001b[38;5;124mConnected to server.\u001b[39m\u001b[38;5;124m\"\u001b[39m)\n\u001b[0;32m     10\u001b[0m done \u001b[38;5;241m=\u001b[39m \u001b[38;5;28;01mFalse\u001b[39;00m\n",
      "\u001b[1;31mConnectionRefusedError\u001b[0m: [WinError 10061] No connection could be made because the target machine actively refused it"
     ]
    }
   ],
   "source": [
    "import socket\n",
    "import pickle\n",
    "import numpy as np\n",
    "\n",
    "# Initialize TCP client\n",
    "client_socket = socket.socket(socket.AF_INET, socket.SOCK_STREAM)\n",
    "client_socket.connect(('localhost', 9999))\n",
    "print(\"Connected to server.\")\n",
    "\n",
    "done = False\n",
    "pixgen.register_map.gp40 = False # WRITE ENABLE FLAG\n",
    "pixgen.register_map.gp41 = True  # \n",
    "\n",
    "try:\n",
    "    while True:\n",
    "        # Receive data from server\n",
    "        packet = client_socket.recv(99999999)\n",
    "\n",
    "        # Deserialize received data\n",
    "        message = pickle.loads(packet)\n",
    "        if not done and isinstance(message, np.array):\n",
    "            for i in range(720):\n",
    "                pixgen.register_map.gp40 = True # flag to indicate data is being written\n",
    "                pixgen.register_map.gp0 = message[i][0:31]\n",
    "                pixgen.register_map.gp1 = message[i][32:63]\n",
    "                pixgen.register_map.gp2 = message[i][64:95]\n",
    "                pixgen.register_map.gp3 = message[i][96:127]\n",
    "                pixgen.register_map.gp4 = message[i][128:159]\n",
    "                pixgen.register_map.gp5 = message[i][160:191]\n",
    "                pixgen.register_map.gp6 = message[i][192:223]\n",
    "                pixgen.register_map.gp7 = message[i][224:255]\n",
    "                pixgen.register_map.gp8 = message[i][256:287]\n",
    "                pixgen.register_map.gp9 = message[i][288:319]\n",
    "                pixgen.register_map.gp10 = message[i][320:351]\n",
    "                pixgen.register_map.gp11 = message[i][352:383]\n",
    "                pixgen.register_map.gp12 = message[i][384:415]\n",
    "                pixgen.register_map.gp13 = message[i][416:447]\n",
    "                pixgen.register_map.gp14 = message[i][448:479]\n",
    "                pixgen.register_map.gp15 = message[i][480:511]\n",
    "                pixgen.register_map.gp16 = message[i][512:543]\n",
    "                pixgen.register_map.gp17 = message[i][544:575]\n",
    "                pixgen.register_map.gp18 = message[i][576:607]\n",
    "                pixgen.register_map.gp19 = message[i][608:639]\n",
    "                pixgen.register_map.gp20 = message[i][640:671]\n",
    "                pixgen.register_map.gp21 = message[i][672:703]\n",
    "                pixgen.register_map.gp22 = message[i][704:735]\n",
    "                pixgen.register_map.gp23 = message[i][736:767]\n",
    "                pixgen.register_map.gp24 = message[i][768:799]\n",
    "                pixgen.register_map.gp25 = message[i][800:831]\n",
    "                pixgen.register_map.gp26 = message[i][832:863]\n",
    "                pixgen.register_map.gp27 = message[i][864:895]\n",
    "                pixgen.register_map.gp28 = message[i][896:927]\n",
    "                pixgen.register_map.gp29 = message[i][928:959]\n",
    "                pixgen.register_map.gp30 = message[i][960:991]\n",
    "                pixgen.register_map.gp31 = message[i][992:1023]\n",
    "                pixgen.register_map.gp32 = message[i][1024:1055]\n",
    "                pixgen.register_map.gp33 = message[i][1056:1087]\n",
    "                pixgen.register_map.gp34 = message[i][1088:1119]\n",
    "                pixgen.register_map.gp35 = message[i][1120:1151]\n",
    "                pixgen.register_map.gp36 = message[i][1152:1183]\n",
    "                pixgen.register_map.gp37 = message[i][1184:1215]\n",
    "                pixgen.register_map.gp38 = message[i][1216:1247]\n",
    "                pixgen.register_map.gp39 = message[i][1248:1279]\n",
    "            pixgen.register_map.gp40 = False # done writing\n",
    "            done=1\n",
    "\n",
    "        elif isinstance(message, str):\n",
    "            pixgen.register_map.gp41 = pixgen.register_map.gp41 # Pause flag must be high\n",
    "        else:\n",
    "            pixgen.register_map.gp41 = not pixgen.register_map.gp41 # Unpause\n",
    "        \n",
    "        frame = imgen_vdma.readframe() # Output next frame\n",
    "        hdmi_out.writeframe(frame)\n",
    "      \n",
    "except Exception as e:\n",
    "    print(f\"Error: {e}\")\n",
    "\n",
    "finally:\n",
    "    client_socket.close()\n",
    "    print(\"Connection closed.\")"
   ]
  }
 ],
 "metadata": {
  "kernelspec": {
   "display_name": "Python 3 (ipykernel)",
   "language": "python",
   "name": "python3"
  },
  "language_info": {
   "codemirror_mode": {
    "name": "ipython",
    "version": 3
   },
   "file_extension": ".py",
   "mimetype": "text/x-python",
   "name": "python",
   "nbconvert_exporter": "python",
   "pygments_lexer": "ipython3",
   "version": "3.11.9"
  }
 },
 "nbformat": 4,
 "nbformat_minor": 5
}
