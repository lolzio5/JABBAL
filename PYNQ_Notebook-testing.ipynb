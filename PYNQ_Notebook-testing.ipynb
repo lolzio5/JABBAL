{
 "cells": [
  {
   "cell_type": "code",
   "execution_count": 1,
   "id": "5033e040",
   "metadata": {},
   "outputs": [
    {
     "data": {
      "application/javascript": "\ntry {\nrequire(['notebook/js/codecell'], function(codecell) {\n  codecell.CodeCell.options_default.highlight_modes[\n      'magic_text/x-csrc'] = {'reg':[/^%%microblaze/]};\n  Jupyter.notebook.events.one('kernel_ready.Kernel', function(){\n      Jupyter.notebook.get_cells().map(function(cell){\n          if (cell.cell_type == 'code'){ cell.auto_highlight(); } }) ;\n  });\n});\n} catch (e) {};\n"
     },
     "metadata": {},
     "output_type": "display_data"
    },
    {
     "data": {
      "application/javascript": "\ntry {\nrequire(['notebook/js/codecell'], function(codecell) {\n  codecell.CodeCell.options_default.highlight_modes[\n      'magic_text/x-csrc'] = {'reg':[/^%%pybind11/]};\n  Jupyter.notebook.events.one('kernel_ready.Kernel', function(){\n      Jupyter.notebook.get_cells().map(function(cell){\n          if (cell.cell_type == 'code'){ cell.auto_highlight(); } }) ;\n  });\n});\n} catch (e) {};\n"
     },
     "metadata": {},
     "output_type": "display_data"
    }
   ],
   "source": [
    "from pynq import Overlay\n",
    "from pynq.lib.video import *\n",
    "import time\n",
    "\n",
    "overlay = Overlay(\"/home/xilinx/base2.bit\")"
   ]
  },
  {
   "cell_type": "code",
   "execution_count": 2,
   "id": "a71fbab2",
   "metadata": {},
   "outputs": [],
   "source": [
    "imgen_vdma = overlay.video.axi_vdma_0.readchannel\n",
    "videoMode = common.VideoMode(640, 480, 24)\n",
    "imgen_vdma.mode = videoMode\n",
    "imgen_vdma.start()\n",
    "\n",
    "hdmi_out = overlay.video.hdmi_out\n",
    "hdmi_out._vdma = overlay.video.axi_vdma #Use the correct VDMA!\n",
    "hdmi_out.configure(videoMode)\n",
    "hdmi_out.start()\n",
    "\n",
    "pixgen = overlay.pixel_generator_0"
   ]
  },
  {
   "cell_type": "code",
   "execution_count": 2,
   "id": "30b62d3c",
   "metadata": {},
   "outputs": [
    {
     "ename": "TimeoutError",
     "evalue": "[WinError 10060] A connection attempt failed because the connected party did not properly respond after a period of time, or established connection failed because connected host has failed to respond",
     "output_type": "error",
     "traceback": [
      "\u001b[1;31m---------------------------------------------------------------------------\u001b[0m",
      "\u001b[1;31mTimeoutError\u001b[0m                              Traceback (most recent call last)",
      "Cell \u001b[1;32mIn[2], line 6\u001b[0m\n\u001b[0;32m      4\u001b[0m \u001b[38;5;66;03m# Initialize TCP client\u001b[39;00m\n\u001b[0;32m      5\u001b[0m client_socket \u001b[38;5;241m=\u001b[39m socket\u001b[38;5;241m.\u001b[39msocket(socket\u001b[38;5;241m.\u001b[39mAF_INET, socket\u001b[38;5;241m.\u001b[39mSOCK_STREAM)\n\u001b[1;32m----> 6\u001b[0m \u001b[43mclient_socket\u001b[49m\u001b[38;5;241;43m.\u001b[39;49m\u001b[43mconnect\u001b[49m\u001b[43m(\u001b[49m\u001b[43m(\u001b[49m\u001b[38;5;124;43m'\u001b[39;49m\u001b[38;5;124;43m192.168.2.1\u001b[39;49m\u001b[38;5;124;43m'\u001b[39;49m\u001b[43m,\u001b[49m\u001b[43m \u001b[49m\u001b[38;5;241;43m9999\u001b[39;49m\u001b[43m)\u001b[49m\u001b[43m)\u001b[49m\n\u001b[0;32m      7\u001b[0m \u001b[38;5;28mprint\u001b[39m(\u001b[38;5;124m\"\u001b[39m\u001b[38;5;124mConnected to server.\u001b[39m\u001b[38;5;124m\"\u001b[39m)\n\u001b[0;32m      9\u001b[0m done \u001b[38;5;241m=\u001b[39m \u001b[38;5;241m0\u001b[39m\n",
      "\u001b[1;31mTimeoutError\u001b[0m: [WinError 10060] A connection attempt failed because the connected party did not properly respond after a period of time, or established connection failed because connected host has failed to respond"
     ]
    }
   ],
   "source": [
    "import socket\n",
    "import pickle\n",
    "\n",
    "# Initialize TCP client\n",
    "client_socket = socket.socket(socket.AF_INET, socket.SOCK_STREAM)\n",
    "client_socket.connect(('127.0.0.1', 9999))\n",
    "print(\"Connected to server.\")\n",
    "\n",
    "done = 0\n",
    "BRAM_A_WE = 0x0000 # pixgen.register_map.BRAM_A_WE  # WRITE ENABLE FLAG\n",
    "\n",
    "PAUSE = 0x0001 #pixgen.register_map.PAUSE = 0x0001  # PAUSE FLAG\n",
    "while True:\n",
    "    if (not done):\n",
    "        num_chunks = pickle.loads(client_socket.recv(4096))\n",
    "        data = b\"\"\n",
    "        for i in range(num_chunks):\n",
    "            chunk = client_socket.recv(4096)\n",
    "            data += chunk                \n",
    "        matrix=pickle.loads(data)\n",
    "       \n",
    "        for item in matrix:\n",
    "            counterd = 0\n",
    "            for data in item:\n",
    "                if data:\n",
    "                    item[counterd] = 1\n",
    "                else:\n",
    "                    item[counterd] = 0\n",
    "                counterd = counterd + 1\n",
    "            binary_str = ''.join(map(str, item))\n",
    "            while len(binary_str) % 8 != 0:\n",
    "                binary_str = '0' + binary_str\n",
    "            for i in range(40):\n",
    "                hex_int = int(binary_str[32*i:((i+1)*32)-1], 2)\n",
    "                register_name = f\"gp{i}\"\n",
    "                #setattr(pixgen.register_map, register_name, hex_int)\n",
    "        done=1\n",
    "    pixgen.register_map.gp40 = 0x0001 # done writing\n",
    "    message = pickle.loads(client_socket.recv(2048))\n",
    "    if message:\n",
    "        pixgen.register_map.PAUSE = 0x0001\n",
    "    else:\n",
    "        pixgen.register_map.PAUSE = 0x0000\n",
    "\n",
    "    frame = imgen_vdma.readframe() # Output next frame\n",
    "    hdmi_out.writeframe(frame)"
   ]
  }
 ],
 "metadata": {
  "kernelspec": {
   "display_name": "Python 3 (ipykernel)",
   "language": "python",
   "name": "python3"
  },
  "language_info": {
   "codemirror_mode": {
    "name": "ipython",
    "version": 3
   },
   "file_extension": ".py",
   "mimetype": "text/x-python",
   "name": "python",
   "nbconvert_exporter": "python",
   "pygments_lexer": "ipython3",
   "version": "3.11.9"
  }
 },
 "nbformat": 4,
 "nbformat_minor": 5
}
